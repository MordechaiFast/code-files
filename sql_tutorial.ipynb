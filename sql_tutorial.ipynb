{
 "cells": [
  {
   "cell_type": "code",
   "execution_count": 1,
   "id": "be090362-957d-439a-9a94-ab170ce987c2",
   "metadata": {},
   "outputs": [],
   "source": [
    "# %pip install sqlalchemy\n",
    "%rm tutorial.db"
   ]
  },
  {
   "cell_type": "code",
   "execution_count": 2,
   "id": "b0811752-532d-46ad-881d-4cacc897a03a",
   "metadata": {},
   "outputs": [
    {
     "name": "stdout",
     "output_type": "stream",
     "text": [
      "2.0.25\n"
     ]
    }
   ],
   "source": [
    "import sqlalchemy\n",
    "\n",
    "print(sqlalchemy.__version__)"
   ]
  },
  {
   "cell_type": "code",
   "execution_count": 3,
   "id": "e31f0871-5d4c-4285-9418-68222b5a838a",
   "metadata": {},
   "outputs": [],
   "source": [
    "from sqlalchemy import create_engine\n",
    "\n",
    "engine = create_engine(\"sqlite+pysqlite:///tutorial.db\", echo=True)"
   ]
  },
  {
   "cell_type": "code",
   "execution_count": 4,
   "id": "9aad8947-606b-4354-af12-f21b52fdb171",
   "metadata": {},
   "outputs": [
    {
     "name": "stdout",
     "output_type": "stream",
     "text": [
      "2024-03-13 21:31:43,212 INFO sqlalchemy.engine.Engine BEGIN (implicit)\n",
      "2024-03-13 21:31:43,213 INFO sqlalchemy.engine.Engine CREATE TABLE some_table (x int, y int)\n",
      "2024-03-13 21:31:43,213 INFO sqlalchemy.engine.Engine [generated in 0.00161s] ()\n",
      "2024-03-13 21:31:43,229 INFO sqlalchemy.engine.Engine INSERT INTO some_table (x, y) VALUES (?, ?)\n",
      "2024-03-13 21:31:43,229 INFO sqlalchemy.engine.Engine [generated in 0.00072s] [(1, 1), (2, 4)]\n",
      "2024-03-13 21:31:43,230 INFO sqlalchemy.engine.Engine COMMIT\n",
      "2024-03-13 21:31:43,237 INFO sqlalchemy.engine.Engine BEGIN (implicit)\n",
      "2024-03-13 21:31:43,239 INFO sqlalchemy.engine.Engine INSERT INTO some_table (x, y) VALUES (?, ?)\n",
      "2024-03-13 21:31:43,239 INFO sqlalchemy.engine.Engine [cached since 0.01046s ago] [(6, 8), (9, 10)]\n",
      "2024-03-13 21:31:43,240 INFO sqlalchemy.engine.Engine COMMIT\n",
      "2024-03-13 21:31:43,349 INFO sqlalchemy.engine.Engine BEGIN (implicit)\n",
      "2024-03-13 21:31:43,349 INFO sqlalchemy.engine.Engine INSERT INTO some_table (x, y) VALUES (?, ?)\n",
      "2024-03-13 21:31:43,350 INFO sqlalchemy.engine.Engine [cached since 0.1213s ago] [(11, 12), (13, 14)]\n",
      "2024-03-13 21:31:43,351 INFO sqlalchemy.engine.Engine COMMIT\n"
     ]
    }
   ],
   "source": [
    "from sqlalchemy import text\n",
    "\n",
    "# \"commit as you go\"\n",
    "\n",
    "with engine.connect() as conn:\n",
    "    conn.execute(text(\"CREATE TABLE some_table (x int, y int)\"))\n",
    "    conn.execute(\n",
    "        text(\"INSERT INTO some_table (x, y) VALUES (:x, :y)\"),\n",
    "        [{\"x\": 1, \"y\": 1}, {\"x\": 2, \"y\": 4}],\n",
    "    )\n",
    "    conn.commit()\n",
    "\n",
    "# \"beging once\"\n",
    "\n",
    "with engine.begin() as conn:\n",
    "    conn.execute(\n",
    "        text(\"INSERT INTO some_table (x, y) VALUES (:x, :y)\"),\n",
    "        [{\"x\": 6, \"y\": 8}, {\"x\": 9, \"y\": 10}],\n",
    "    )\n",
    "\n",
    "# Session commiting, statement objects\n",
    "\n",
    "from sqlalchemy.orm import Session\n",
    "\n",
    "stmt = text(\"INSERT INTO some_table (x, y) VALUES (:x, :y)\")\n",
    "with Session(engine) as session:\n",
    "    session.execute(stmt, \n",
    "                    [{\"x\": 11, \"y\": 12}, {\"x\": 13, \"y\": 14}])\n",
    "    session.commit()"
   ]
  },
  {
   "cell_type": "code",
   "execution_count": 5,
   "id": "60002c3b-6be4-4865-bcf5-1dd81878e13d",
   "metadata": {},
   "outputs": [],
   "source": [
    "from sqlalchemy import MetaData\n",
    "\n",
    "metadata_obj = MetaData()"
   ]
  },
  {
   "cell_type": "code",
   "execution_count": 6,
   "id": "550b60d7-b728-4363-bf29-b2fb56244ada",
   "metadata": {},
   "outputs": [],
   "source": [
    "from sqlalchemy import Table, Column, Integer, String\n",
    "\n",
    "user_table = Table(\n",
    "    \"user_account\",\n",
    "    metadata_obj,\n",
    "    Column(\"id\", Integer, primary_key=True),\n",
    "    Column(\"name\", String(30)),\n",
    "    Column(\"fullname\", String),\n",
    ")"
   ]
  },
  {
   "cell_type": "code",
   "execution_count": 7,
   "id": "661d895e-7f1c-41a1-a934-d0fd240f2fbe",
   "metadata": {
    "editable": true,
    "slideshow": {
     "slide_type": ""
    },
    "tags": []
   },
   "outputs": [],
   "source": [
    "from sqlalchemy import ForeignKey\n",
    "\n",
    "address_table = Table(\n",
    "    \"address\",\n",
    "    metadata_obj,\n",
    "    Column(\"id\", Integer, primary_key=True),\n",
    "    Column(\"user_id\", ForeignKey(\"user_account.id\"), nullable=False),\n",
    "    Column(\"email_address\", String, nullable=False),\n",
    ")"
   ]
  },
  {
   "cell_type": "code",
   "execution_count": 8,
   "id": "5f723b4c-3b2a-4a9b-974c-cbf1a7ba228f",
   "metadata": {
    "scrolled": true
   },
   "outputs": [
    {
     "name": "stdout",
     "output_type": "stream",
     "text": [
      "2024-03-13 21:31:43,393 INFO sqlalchemy.engine.Engine BEGIN (implicit)\n",
      "2024-03-13 21:31:43,394 INFO sqlalchemy.engine.Engine PRAGMA main.table_info(\"user_account\")\n",
      "2024-03-13 21:31:43,394 INFO sqlalchemy.engine.Engine [raw sql] ()\n",
      "2024-03-13 21:31:43,395 INFO sqlalchemy.engine.Engine PRAGMA temp.table_info(\"user_account\")\n",
      "2024-03-13 21:31:43,396 INFO sqlalchemy.engine.Engine [raw sql] ()\n",
      "2024-03-13 21:31:43,397 INFO sqlalchemy.engine.Engine PRAGMA main.table_info(\"address\")\n",
      "2024-03-13 21:31:43,398 INFO sqlalchemy.engine.Engine [raw sql] ()\n",
      "2024-03-13 21:31:43,399 INFO sqlalchemy.engine.Engine PRAGMA temp.table_info(\"address\")\n",
      "2024-03-13 21:31:43,399 INFO sqlalchemy.engine.Engine [raw sql] ()\n",
      "2024-03-13 21:31:43,401 INFO sqlalchemy.engine.Engine \n",
      "CREATE TABLE user_account (\n",
      "\tid INTEGER NOT NULL, \n",
      "\tname VARCHAR(30), \n",
      "\tfullname VARCHAR, \n",
      "\tPRIMARY KEY (id)\n",
      ")\n",
      "\n",
      "\n",
      "2024-03-13 21:31:43,402 INFO sqlalchemy.engine.Engine [no key 0.00096s] ()\n",
      "2024-03-13 21:31:43,413 INFO sqlalchemy.engine.Engine \n",
      "CREATE TABLE address (\n",
      "\tid INTEGER NOT NULL, \n",
      "\tuser_id INTEGER NOT NULL, \n",
      "\temail_address VARCHAR NOT NULL, \n",
      "\tPRIMARY KEY (id), \n",
      "\tFOREIGN KEY(user_id) REFERENCES user_account (id)\n",
      ")\n",
      "\n",
      "\n",
      "2024-03-13 21:31:43,415 INFO sqlalchemy.engine.Engine [no key 0.00203s] ()\n",
      "2024-03-13 21:31:43,423 INFO sqlalchemy.engine.Engine COMMIT\n"
     ]
    }
   ],
   "source": [
    "metadata_obj.create_all(engine)"
   ]
  },
  {
   "cell_type": "code",
   "execution_count": 9,
   "id": "18889f57-cd01-4b05-b4bb-173599a69adb",
   "metadata": {},
   "outputs": [],
   "source": [
    "from sqlalchemy.orm import DeclarativeBase\n",
    "\n",
    "class Base(DeclarativeBase):\n",
    "    pass"
   ]
  },
  {
   "cell_type": "code",
   "execution_count": 10,
   "id": "35a58c02-970f-461e-8548-4a1c921f58bd",
   "metadata": {},
   "outputs": [],
   "source": [
    "from typing import List, Optional\n",
    "from sqlalchemy.orm import Mapped, mapped_column, relationship\n",
    "\n",
    "class User(Base):\n",
    "    __tablename__ = \"user_account\"\n",
    "\n",
    "    id: Mapped[int] = mapped_column(primary_key=True)\n",
    "    name: Mapped[str] = mapped_column(String(30))\n",
    "    fullname: Mapped[Optional[str]]\n",
    "\n",
    "    addresses: Mapped[List[\"Address\"]] = relationship(back_populates=\"user\")\n",
    "\n",
    "    def __repr__(self) -> str:\n",
    "        return f\"User(id={self.id!r}, name={self.name!r}, fullname={self.fullname!r})\""
   ]
  },
  {
   "cell_type": "code",
   "execution_count": 11,
   "id": "4d7e6f98-2279-481e-851f-c480a86ee234",
   "metadata": {},
   "outputs": [],
   "source": [
    "from sqlalchemy import ForeignKey\n",
    "\n",
    "class Address(Base):\n",
    "    __tablename__ = \"address\"\n",
    "\n",
    "    id: Mapped[int] = mapped_column(primary_key=True)\n",
    "    email_address: Mapped[str]\n",
    "    user_id = mapped_column(ForeignKey(\"user_account.id\"))\n",
    "\n",
    "    user: Mapped[User] = relationship(back_populates=\"addresses\")\n",
    "\n",
    "    def __repr__(self) -> str:\n",
    "        return f\"Address(id={self.id!r}, email_address={self.email_address!r})\""
   ]
  },
  {
   "cell_type": "code",
   "execution_count": 12,
   "id": "f4649fb2-7050-4d09-865e-c950fe40cb88",
   "metadata": {},
   "outputs": [
    {
     "name": "stdout",
     "output_type": "stream",
     "text": [
      "2024-03-13 21:31:43,469 INFO sqlalchemy.engine.Engine BEGIN (implicit)\n",
      "2024-03-13 21:31:43,471 INFO sqlalchemy.engine.Engine PRAGMA main.table_info(\"user_account\")\n",
      "2024-03-13 21:31:43,472 INFO sqlalchemy.engine.Engine [raw sql] ()\n",
      "2024-03-13 21:31:43,473 INFO sqlalchemy.engine.Engine PRAGMA main.table_info(\"address\")\n",
      "2024-03-13 21:31:43,474 INFO sqlalchemy.engine.Engine [raw sql] ()\n",
      "2024-03-13 21:31:43,475 INFO sqlalchemy.engine.Engine COMMIT\n"
     ]
    }
   ],
   "source": [
    "Base.metadata.create_all(engine)"
   ]
  },
  {
   "cell_type": "code",
   "execution_count": 13,
   "id": "75ef1a2c-079d-4a10-97cb-14b6a74a0291",
   "metadata": {},
   "outputs": [
    {
     "name": "stdout",
     "output_type": "stream",
     "text": [
      "2024-03-13 21:31:43,480 INFO sqlalchemy.engine.Engine BEGIN (implicit)\n",
      "2024-03-13 21:31:43,481 INFO sqlalchemy.engine.Engine PRAGMA main.table_xinfo(\"some_table\")\n",
      "2024-03-13 21:31:43,482 INFO sqlalchemy.engine.Engine [raw sql] ()\n",
      "2024-03-13 21:31:43,483 INFO sqlalchemy.engine.Engine SELECT sql FROM  (SELECT * FROM sqlite_master UNION ALL   SELECT * FROM sqlite_temp_master) WHERE name = ? AND type in ('table', 'view')\n",
      "2024-03-13 21:31:43,484 INFO sqlalchemy.engine.Engine [raw sql] ('some_table',)\n",
      "2024-03-13 21:31:43,485 INFO sqlalchemy.engine.Engine PRAGMA main.foreign_key_list(\"some_table\")\n",
      "2024-03-13 21:31:43,486 INFO sqlalchemy.engine.Engine [raw sql] ()\n",
      "2024-03-13 21:31:43,488 INFO sqlalchemy.engine.Engine PRAGMA temp.foreign_key_list(\"some_table\")\n",
      "2024-03-13 21:31:43,490 INFO sqlalchemy.engine.Engine [raw sql] ()\n",
      "2024-03-13 21:31:43,491 INFO sqlalchemy.engine.Engine SELECT sql FROM  (SELECT * FROM sqlite_master UNION ALL   SELECT * FROM sqlite_temp_master) WHERE name = ? AND type in ('table', 'view')\n",
      "2024-03-13 21:31:43,492 INFO sqlalchemy.engine.Engine [raw sql] ('some_table',)\n",
      "2024-03-13 21:31:43,494 INFO sqlalchemy.engine.Engine PRAGMA main.index_list(\"some_table\")\n",
      "2024-03-13 21:31:43,497 INFO sqlalchemy.engine.Engine [raw sql] ()\n",
      "2024-03-13 21:31:43,498 INFO sqlalchemy.engine.Engine PRAGMA temp.index_list(\"some_table\")\n",
      "2024-03-13 21:31:43,499 INFO sqlalchemy.engine.Engine [raw sql] ()\n",
      "2024-03-13 21:31:43,500 INFO sqlalchemy.engine.Engine PRAGMA main.table_info(\"some_table\")\n",
      "2024-03-13 21:31:43,501 INFO sqlalchemy.engine.Engine [raw sql] ()\n",
      "2024-03-13 21:31:43,502 INFO sqlalchemy.engine.Engine PRAGMA main.index_list(\"some_table\")\n",
      "2024-03-13 21:31:43,503 INFO sqlalchemy.engine.Engine [raw sql] ()\n",
      "2024-03-13 21:31:43,504 INFO sqlalchemy.engine.Engine PRAGMA temp.index_list(\"some_table\")\n",
      "2024-03-13 21:31:43,504 INFO sqlalchemy.engine.Engine [raw sql] ()\n",
      "2024-03-13 21:31:43,505 INFO sqlalchemy.engine.Engine PRAGMA main.table_info(\"some_table\")\n",
      "2024-03-13 21:31:43,506 INFO sqlalchemy.engine.Engine [raw sql] ()\n",
      "2024-03-13 21:31:43,507 INFO sqlalchemy.engine.Engine SELECT sql FROM  (SELECT * FROM sqlite_master UNION ALL   SELECT * FROM sqlite_temp_master) WHERE name = ? AND type in ('table', 'view')\n",
      "2024-03-13 21:31:43,507 INFO sqlalchemy.engine.Engine [raw sql] ('some_table',)\n",
      "2024-03-13 21:31:43,510 INFO sqlalchemy.engine.Engine ROLLBACK\n"
     ]
    },
    {
     "data": {
      "text/plain": [
       "Table('some_table', MetaData(), Column('x', INTEGER(), table=<some_table>), Column('y', INTEGER(), table=<some_table>), schema=None)"
      ]
     },
     "execution_count": 13,
     "metadata": {},
     "output_type": "execute_result"
    }
   ],
   "source": [
    "Table(\"some_table\", metadata_obj, autoload_with=engine)"
   ]
  },
  {
   "cell_type": "code",
   "execution_count": 14,
   "id": "43ce1a4b-312c-4406-ae39-13443e5b322d",
   "metadata": {},
   "outputs": [
    {
     "name": "stdout",
     "output_type": "stream",
     "text": [
      "INSERT INTO user_account (id, name, fullname) VALUES (:id, :name, :fullname)\n"
     ]
    }
   ],
   "source": [
    "from sqlalchemy import insert\n",
    "\n",
    "# Automatic insert statement\n",
    "print(insert(user_table))"
   ]
  },
  {
   "cell_type": "code",
   "execution_count": 15,
   "id": "5f0360ff-9fb7-4377-a9ff-838401d785ff",
   "metadata": {},
   "outputs": [
    {
     "data": {
      "text/plain": [
       "{'name': 'mordy', 'fullname': 'Mordechai Fast'}"
      ]
     },
     "execution_count": 15,
     "metadata": {},
     "output_type": "execute_result"
    }
   ],
   "source": [
    "# Insert statement for specific fields with values method\n",
    "stmt = insert(user_table).values(name='mordy', fullname='Mordechai Fast')\n",
    "\n",
    "compiled = stmt.compile()\n",
    "compiled.params"
   ]
  },
  {
   "cell_type": "code",
   "execution_count": 16,
   "id": "33001f11-5415-452c-8bc0-94b9b69f2490",
   "metadata": {},
   "outputs": [
    {
     "name": "stdout",
     "output_type": "stream",
     "text": [
      "2024-03-13 21:31:43,538 INFO sqlalchemy.engine.Engine BEGIN (implicit)\n",
      "2024-03-13 21:31:43,540 INFO sqlalchemy.engine.Engine INSERT INTO user_account (name, fullname) VALUES (?, ?)\n",
      "2024-03-13 21:31:43,541 INFO sqlalchemy.engine.Engine [generated in 0.00088s] ('mordy', 'Mordechai Fast')\n",
      "2024-03-13 21:31:43,542 INFO sqlalchemy.engine.Engine COMMIT\n"
     ]
    }
   ],
   "source": [
    "with engine.begin() as conn:\n",
    "    result = conn.execute(stmt)\n",
    "    # Notice shorter SQL text, with '?' and no 'id'"
   ]
  },
  {
   "cell_type": "code",
   "execution_count": 17,
   "id": "643a2624-c369-4ddd-8957-4f7d3af09e70",
   "metadata": {
    "scrolled": true
   },
   "outputs": [
    {
     "data": {
      "text/plain": [
       "(1,)"
      ]
     },
     "execution_count": 17,
     "metadata": {},
     "output_type": "execute_result"
    }
   ],
   "source": [
    "# Primamry key is created automatically\n",
    "result.inserted_primary_key"
   ]
  },
  {
   "cell_type": "code",
   "execution_count": 18,
   "id": "97f18b74-f9d3-48fd-90bd-c355ace54ce5",
   "metadata": {},
   "outputs": [
    {
     "name": "stdout",
     "output_type": "stream",
     "text": [
      "2024-03-13 21:31:43,557 INFO sqlalchemy.engine.Engine BEGIN (implicit)\n",
      "2024-03-13 21:31:43,561 INFO sqlalchemy.engine.Engine INSERT INTO user_account (name, fullname) VALUES (?, ?)\n",
      "2024-03-13 21:31:43,562 INFO sqlalchemy.engine.Engine [generated in 0.00074s] [('golda', 'Golda Fast'), ('etty', 'Esther Fast')]\n",
      "2024-03-13 21:31:43,564 INFO sqlalchemy.engine.Engine COMMIT\n"
     ]
    }
   ],
   "source": [
    "# Insertions can be specified in the execute statement\n",
    "with engine.begin() as conn:\n",
    "    result = conn.execute(insert(user_table),\n",
    "                          [{\"name\": \"golda\", \"fullname\": \"Golda Fast\"},\n",
    "                           {\"name\": \"etty\", \"fullname\": \"Esther Fast\"}])"
   ]
  },
  {
   "cell_type": "code",
   "execution_count": 19,
   "id": "4ad632df-e4c1-4913-be31-dc869f2c518b",
   "metadata": {},
   "outputs": [
    {
     "name": "stdout",
     "output_type": "stream",
     "text": [
      "2024-03-13 21:31:43,581 INFO sqlalchemy.engine.Engine BEGIN (implicit)\n",
      "2024-03-13 21:31:43,585 INFO sqlalchemy.engine.Engine INSERT INTO address (user_id, email_address) VALUES ((SELECT user_account.id \n",
      "FROM user_account \n",
      "WHERE user_account.name = ?), ?)\n",
      "2024-03-13 21:31:43,585 INFO sqlalchemy.engine.Engine [generated in 0.00066s] [('mordy', 'mordechai.fast@gmail.com'), ('golda', 'golda.fast@gmail.com'), ('golda', 'melechmommy@gmail.com')]\n",
      "2024-03-13 21:31:43,586 INFO sqlalchemy.engine.Engine COMMIT\n"
     ]
    }
   ],
   "source": [
    "# Unneccessarally complicated, core-only method\n",
    "from sqlalchemy import select, bindparam\n",
    "\n",
    "scalar_subq = (\n",
    "    select(user_table.c.id)\n",
    "    .where(user_table.c.name == bindparam(\"username\"))\n",
    "    .scalar_subquery()\n",
    ")\n",
    "\n",
    "with engine.begin() as conn:\n",
    "    result = conn.execute(\n",
    "        insert(address_table).values(user_id=scalar_subq),\n",
    "        [\n",
    "            {\"username\": \"mordy\", \"email_address\": \"mordechai.fast@gmail.com\"},\n",
    "            {\"username\": \"golda\", \"email_address\": \"golda.fast@gmail.com\"},\n",
    "            {\"username\": \"golda\", \"email_address\": \"melechmommy@gmail.com\"},\n",
    "        ],\n",
    "    )"
   ]
  },
  {
   "cell_type": "code",
   "execution_count": 20,
   "id": "46907c72-3312-4f0d-a083-e2bfa4cadb1b",
   "metadata": {},
   "outputs": [
    {
     "name": "stdout",
     "output_type": "stream",
     "text": [
      "2024-03-13 21:31:43,605 INFO sqlalchemy.engine.Engine BEGIN (implicit)\n",
      "2024-03-13 21:31:43,607 INFO sqlalchemy.engine.Engine INSERT INTO address (user_id, email_address) VALUES (?, ?) RETURNING id, email_address\n",
      "2024-03-13 21:31:43,607 INFO sqlalchemy.engine.Engine [generated in 0.00212s] (1, 'none@no.where')\n",
      "2024-03-13 21:31:43,608 INFO sqlalchemy.engine.Engine ROLLBACK\n",
      "The result is: (4, 'none@no.where')\n"
     ]
    }
   ],
   "source": [
    "insert_return_stmt = insert(address_table).returning(\n",
    "    address_table.c.id, address_table.c.email_address\n",
    ")\n",
    "\n",
    "with engine.connect() as conn:\n",
    "    result = conn.execute(insert_return_stmt,\n",
    "        [{\"user_id\": 1, \"email_address\": \"none@no.where\"}])\n",
    "    # Don't save that!\n",
    "print(f\"The result is: {result.first()}\")"
   ]
  },
  {
   "cell_type": "code",
   "execution_count": 21,
   "id": "38eeb5e9-007e-45e2-b8de-90e94b0cd71d",
   "metadata": {},
   "outputs": [
    {
     "name": "stdout",
     "output_type": "stream",
     "text": [
      "2024-03-13 21:31:43,625 INFO sqlalchemy.engine.Engine BEGIN (implicit)\n",
      "2024-03-13 21:31:43,626 INFO sqlalchemy.engine.Engine INSERT INTO address (user_id, email_address) SELECT user_account.id, user_account.name || ? AS anon_1 \n",
      "FROM user_account RETURNING id, email_address\n",
      "2024-03-13 21:31:43,627 INFO sqlalchemy.engine.Engine [generated in 0.00285s] ('@aol.com',)\n",
      "(4, 'mordy@aol.com')\n",
      "(5, 'golda@aol.com')\n",
      "(6, 'etty@aol.com')\n",
      "2024-03-13 21:31:43,630 INFO sqlalchemy.engine.Engine COMMIT\n"
     ]
    }
   ],
   "source": [
    "select_stmt = select(user_table.c.id, user_table.c.name + \"@aol.com\")\n",
    "insert_from_stmt = insert(address_table).from_select(\n",
    "    [\"user_id\", \"email_address\"], select_stmt\n",
    ")\n",
    "\n",
    "with engine.connect() as conn:\n",
    "    result = conn.execute(insert_from_stmt.returning(\n",
    "        address_table.c.id, address_table.c.email_address))\n",
    "    print(*result, sep=\"\\n\")\n",
    "    conn.commit()"
   ]
  },
  {
   "cell_type": "code",
   "execution_count": 22,
   "id": "59bc0e58-fd0e-47fc-9667-15a41107f73d",
   "metadata": {},
   "outputs": [
    {
     "name": "stdout",
     "output_type": "stream",
     "text": [
      "2024-03-13 21:31:43,643 INFO sqlalchemy.engine.Engine BEGIN (implicit)\n",
      "2024-03-13 21:31:43,644 INFO sqlalchemy.engine.Engine SELECT user_account.id, user_account.name, user_account.fullname \n",
      "FROM user_account \n",
      "WHERE user_account.name = ?\n",
      "2024-03-13 21:31:43,645 INFO sqlalchemy.engine.Engine [generated in 0.00199s] ('mordy',)\n",
      "2024-03-13 21:31:43,646 INFO sqlalchemy.engine.Engine ROLLBACK\n",
      "(1, 'mordy', 'Mordechai Fast')\n"
     ]
    }
   ],
   "source": [
    "from sqlalchemy import select\n",
    "\n",
    "where_stmt = select(user_table).where(user_table.c.name == \"mordy\")\n",
    "\n",
    "with engine.connect() as conn:\n",
    "    result = conn.execute(where_stmt)\n",
    "print(*result)"
   ]
  },
  {
   "cell_type": "code",
   "execution_count": 23,
   "id": "920bd637-3a52-4a24-bc55-2f1009e3a43f",
   "metadata": {
    "editable": true,
    "slideshow": {
     "slide_type": ""
    },
    "tags": []
   },
   "outputs": [
    {
     "name": "stdout",
     "output_type": "stream",
     "text": [
      "2024-03-13 21:31:43,652 INFO sqlalchemy.engine.Engine BEGIN (implicit)\n",
      "2024-03-13 21:31:43,658 INFO sqlalchemy.engine.Engine SELECT user_account.id, user_account.name, user_account.fullname \n",
      "FROM user_account \n",
      "WHERE user_account.name = ?\n",
      "2024-03-13 21:31:43,661 INFO sqlalchemy.engine.Engine [generated in 0.00335s] ('mordy',)\n",
      "(User(id=1, name='mordy', fullname='Mordechai Fast'),)\n",
      "2024-03-13 21:31:43,662 INFO sqlalchemy.engine.Engine ROLLBACK\n"
     ]
    }
   ],
   "source": [
    "orm_where_stmt = select(User).where(User.name == \"mordy\")\n",
    "\n",
    "with Session(engine) as session:\n",
    "    result = session.execute(orm_where_stmt)\n",
    "    # Must be used before sesssion expires\n",
    "    print(*result)"
   ]
  },
  {
   "cell_type": "code",
   "execution_count": 24,
   "id": "af26592a-a5ef-4372-b4fe-fc29a1d6aebc",
   "metadata": {},
   "outputs": [
    {
     "name": "stdout",
     "output_type": "stream",
     "text": [
      "SELECT user_account.name, user_account.fullname \n",
      "FROM user_account\n",
      "SELECT user_account.name, user_account.fullname \n",
      "FROM user_account\n"
     ]
    }
   ],
   "source": [
    "# Two ways to refer to the column names\n",
    "partial_select1 = select(user_table.c.name, user_table.c.fullname)\n",
    "partial_select2 = select(user_table.c[\"name\", \"fullname\"])\n",
    "print(partial_select1, partial_select2, sep='\\n')"
   ]
  },
  {
   "cell_type": "code",
   "execution_count": 25,
   "id": "830d90e1-e243-4f45-ba0f-0881588ec627",
   "metadata": {},
   "outputs": [
    {
     "name": "stdout",
     "output_type": "stream",
     "text": [
      "2024-03-13 21:31:43,680 INFO sqlalchemy.engine.Engine BEGIN (implicit)\n",
      "2024-03-13 21:31:43,682 INFO sqlalchemy.engine.Engine SELECT user_account.id, user_account.name, user_account.fullname \n",
      "FROM user_account\n",
      "2024-03-13 21:31:43,683 INFO sqlalchemy.engine.Engine [generated in 0.00057s] ()\n"
     ]
    },
    {
     "data": {
      "text/plain": [
       "[(User(id=1, name='mordy', fullname='Mordechai Fast'),),\n",
       " (User(id=2, name='golda', fullname='Golda Fast'),),\n",
       " (User(id=3, name='etty', fullname='Esther Fast'),)]"
      ]
     },
     "execution_count": 25,
     "metadata": {},
     "output_type": "execute_result"
    }
   ],
   "source": [
    "session.execute(select(User)).all()\n",
    "# Notice the User objects are returned in single-tuples"
   ]
  },
  {
   "cell_type": "code",
   "execution_count": 26,
   "id": "0e450142-5616-459a-b979-095405d47551",
   "metadata": {},
   "outputs": [
    {
     "name": "stdout",
     "output_type": "stream",
     "text": [
      "2024-03-13 21:31:43,691 INFO sqlalchemy.engine.Engine SELECT user_account.id, user_account.name, user_account.fullname \n",
      "FROM user_account\n",
      "2024-03-13 21:31:43,692 INFO sqlalchemy.engine.Engine [cached since 0.01003s ago] ()\n"
     ]
    },
    {
     "data": {
      "text/plain": [
       "[User(id=1, name='mordy', fullname='Mordechai Fast'),\n",
       " User(id=2, name='golda', fullname='Golda Fast'),\n",
       " User(id=3, name='etty', fullname='Esther Fast')]"
      ]
     },
     "execution_count": 26,
     "metadata": {},
     "output_type": "execute_result"
    }
   ],
   "source": [
    "session.scalars(select(User)).all()"
   ]
  },
  {
   "cell_type": "code",
   "execution_count": 27,
   "id": "5994d69e-dfe0-4eca-be18-ede210edaa55",
   "metadata": {},
   "outputs": [
    {
     "name": "stdout",
     "output_type": "stream",
     "text": [
      "2024-03-13 21:31:43,698 INFO sqlalchemy.engine.Engine SELECT user_account.id, user_account.name, user_account.fullname \n",
      "FROM user_account\n",
      "2024-03-13 21:31:43,700 INFO sqlalchemy.engine.Engine [cached since 0.01749s ago] ()\n"
     ]
    },
    {
     "data": {
      "text/plain": [
       "User(id=1, name='mordy', fullname='Mordechai Fast')"
      ]
     },
     "execution_count": 27,
     "metadata": {},
     "output_type": "execute_result"
    }
   ],
   "source": [
    "session.scalar(select(User))\n",
    "# Returns the first row as an object"
   ]
  },
  {
   "cell_type": "code",
   "execution_count": 28,
   "id": "c8e44c28-83eb-47a4-9503-602959127236",
   "metadata": {},
   "outputs": [
    {
     "name": "stdout",
     "output_type": "stream",
     "text": [
      "2024-03-13 21:31:43,711 INFO sqlalchemy.engine.Engine SELECT user_account.id, user_account.name, user_account.fullname \n",
      "FROM user_account \n",
      "WHERE user_account.id = ?\n",
      "2024-03-13 21:31:43,712 INFO sqlalchemy.engine.Engine [generated in 0.00124s] (2,)\n"
     ]
    },
    {
     "data": {
      "text/plain": [
       "User(id=2, name='golda', fullname='Golda Fast')"
      ]
     },
     "execution_count": 28,
     "metadata": {},
     "output_type": "execute_result"
    }
   ],
   "source": [
    "# Usefull when searching for a primary key\n",
    "session.scalar(select(User).where(User.id == 2))"
   ]
  },
  {
   "cell_type": "code",
   "execution_count": 29,
   "id": "e17313da-e033-49c0-8cb3-7e38f32e7b92",
   "metadata": {},
   "outputs": [
    {
     "name": "stdout",
     "output_type": "stream",
     "text": [
      "2024-03-13 21:31:43,720 INFO sqlalchemy.engine.Engine SELECT user_account.name, user_account.fullname \n",
      "FROM user_account\n",
      "2024-03-13 21:31:43,721 INFO sqlalchemy.engine.Engine [generated in 0.00108s] ()\n"
     ]
    },
    {
     "data": {
      "text/plain": [
       "[('mordy', 'Mordechai Fast'), ('golda', 'Golda Fast'), ('etty', 'Esther Fast')]"
      ]
     },
     "execution_count": 29,
     "metadata": {},
     "output_type": "execute_result"
    }
   ],
   "source": [
    "# Selecting specific columns\n",
    "session.execute(select(User.name, User.fullname)).all()"
   ]
  },
  {
   "cell_type": "code",
   "execution_count": 30,
   "id": "719ee572-ca9e-440e-8290-46b26e817409",
   "metadata": {},
   "outputs": [
    {
     "name": "stdout",
     "output_type": "stream",
     "text": [
      "2024-03-13 21:31:43,728 INFO sqlalchemy.engine.Engine SELECT user_account.name, address.id, address.email_address, address.user_id \n",
      "FROM user_account, address \n",
      "WHERE user_account.id = address.user_id\n",
      "2024-03-13 21:31:43,729 INFO sqlalchemy.engine.Engine [generated in 0.00098s] ()\n"
     ]
    },
    {
     "data": {
      "text/plain": [
       "[('mordy', Address(id=1, email_address='mordechai.fast@gmail.com')),\n",
       " ('golda', Address(id=2, email_address='golda.fast@gmail.com')),\n",
       " ('golda', Address(id=3, email_address='melechmommy@gmail.com')),\n",
       " ('mordy', Address(id=4, email_address='mordy@aol.com')),\n",
       " ('golda', Address(id=5, email_address='golda@aol.com')),\n",
       " ('etty', Address(id=6, email_address='etty@aol.com'))]"
      ]
     },
     "execution_count": 30,
     "metadata": {},
     "output_type": "execute_result"
    }
   ],
   "source": [
    "session.execute(\n",
    "    select(User.name, Address).where(User.id == Address.user_id)\n",
    ").all()"
   ]
  },
  {
   "cell_type": "code",
   "execution_count": 31,
   "id": "5a78042c-276f-4f29-9363-e0f3607d1725",
   "metadata": {},
   "outputs": [
    {
     "name": "stdout",
     "output_type": "stream",
     "text": [
      "2024-03-13 21:31:43,744 INFO sqlalchemy.engine.Engine BEGIN (implicit)\n",
      "2024-03-13 21:31:43,745 INFO sqlalchemy.engine.Engine SELECT ? || user_account.name AS username \n",
      "FROM user_account ORDER BY user_account.name\n",
      "2024-03-13 21:31:43,746 INFO sqlalchemy.engine.Engine [generated in 0.00248s] ('Username: ',)\n",
      "Username: etty\n",
      "Username: golda\n",
      "Username: mordy\n",
      "2024-03-13 21:31:43,747 INFO sqlalchemy.engine.Engine ROLLBACK\n"
     ]
    }
   ],
   "source": [
    "label_selection = select(\n",
    "    (\"Username: \" + user_table.c.name).label(\"username\")\n",
    ").order_by(user_table.c.name)\n",
    "\n",
    "with engine.connect() as conn:\n",
    "    for row in conn.execute(label_selection):\n",
    "        print(row.username)"
   ]
  },
  {
   "cell_type": "code",
   "execution_count": 32,
   "id": "800b82d3-7030-4f75-a729-00819e788db9",
   "metadata": {},
   "outputs": [
    {
     "name": "stdout",
     "output_type": "stream",
     "text": [
      "2024-03-13 21:31:43,752 INFO sqlalchemy.engine.Engine SELECT 'SQL', user_account.fullname \n",
      "FROM user_account\n",
      "2024-03-13 21:31:43,754 INFO sqlalchemy.engine.Engine [generated in 0.00174s] ()\n"
     ]
    },
    {
     "data": {
      "text/plain": [
       "[('SQL', 'Mordechai Fast'), ('SQL', 'Golda Fast'), ('SQL', 'Esther Fast')]"
      ]
     },
     "execution_count": 32,
     "metadata": {},
     "output_type": "execute_result"
    }
   ],
   "source": [
    "session.execute(select(text(\"'SQL'\"), user_table.c.fullname)).all()"
   ]
  },
  {
   "cell_type": "code",
   "execution_count": 33,
   "id": "9e54fc80-2515-4fe1-8862-dcb396a0e239",
   "metadata": {},
   "outputs": [
    {
     "name": "stdout",
     "output_type": "stream",
     "text": [
      "2024-03-13 21:31:43,761 INFO sqlalchemy.engine.Engine BEGIN (implicit)\n",
      "2024-03-13 21:31:43,762 INFO sqlalchemy.engine.Engine SELECT 'Name' AS \"desc\", user_account.fullname \n",
      "FROM user_account\n",
      "2024-03-13 21:31:43,763 INFO sqlalchemy.engine.Engine [generated in 0.00232s] ()\n",
      "Name: Mordechai Fast\n",
      "Name: Golda Fast\n",
      "Name: Esther Fast\n",
      "2024-03-13 21:31:43,765 INFO sqlalchemy.engine.Engine ROLLBACK\n"
     ]
    }
   ],
   "source": [
    "from sqlalchemy import literal_column\n",
    "\n",
    "lit_col_stmt = select(\n",
    "    literal_column(\"'Name'\").label(\"desc\"), user_table.c.fullname\n",
    ")\n",
    "with engine.connect() as conn:\n",
    "    for row in conn.execute(lit_col_stmt):\n",
    "        print(f\"{row.desc}: {row.fullname}\")"
   ]
  },
  {
   "cell_type": "code",
   "execution_count": 34,
   "id": "2542c8fb-5931-4b73-a3a8-3f506606fe63",
   "metadata": {},
   "outputs": [
    {
     "name": "stdout",
     "output_type": "stream",
     "text": [
      "SELECT address.id, address.user_id, address.email_address \n",
      "FROM address, user_account \n",
      "WHERE user_account.name = :name_1 AND address.user_id = user_account.id\n",
      "SELECT address.id, address.user_id, address.email_address \n",
      "FROM address, user_account \n",
      "WHERE user_account.name = :name_1 AND address.user_id = user_account.id\n"
     ]
    }
   ],
   "source": [
    "multi_where1 = (\n",
    "    select(address_table)\n",
    "    .where(user_table.c.name == 'golda')\n",
    "    .where(address_table.c.user_id == user_table.c.id)\n",
    ")\n",
    "\n",
    "multi_where2 = select(address_table).where(\n",
    "    user_table.c.name == 'golda',\n",
    "    address_table.c.user_id == user_table.c.id,\n",
    ")\n",
    "\n",
    "print(multi_where1, multi_where2, sep='\\n')"
   ]
  },
  {
   "cell_type": "code",
   "execution_count": 35,
   "id": "a98cdba8-f3ef-40d2-8810-44f70cbdd5e5",
   "metadata": {},
   "outputs": [
    {
     "name": "stdout",
     "output_type": "stream",
     "text": [
      "SELECT address.email_address \n",
      "FROM address, user_account \n",
      "WHERE user_account.name = :name_1 AND user_account.id = address.user_id OR address.user_id != :user_id_1\n",
      "SELECT address.email_address \n",
      "FROM address, user_account \n",
      "WHERE user_account.name = :name_1 AND user_account.id = address.user_id OR address.user_id != :user_id_1\n"
     ]
    }
   ],
   "source": [
    "from sqlalchemy import and_, or_, not_\n",
    "\n",
    "compound_stmt1 = select(Address.email_address).where(or_(\n",
    "    and_(User.name == 'golda', User.id == Address.user_id),\n",
    "    not_(Address.user_id == 0)\n",
    "))\n",
    "\n",
    "compound_stmt2 = select(Address.email_address).where(\n",
    "    (User.name == 'golda') & (User.id == Address.user_id)\n",
    "    | ~(Address.user_id == 0)\n",
    ")\n",
    "\n",
    "print(compound_stmt1, compound_stmt2, sep='\\n')"
   ]
  },
  {
   "cell_type": "code",
   "execution_count": 36,
   "id": "cb4b35fe-1475-484e-b213-f6c500a807c5",
   "metadata": {},
   "outputs": [
    {
     "name": "stdout",
     "output_type": "stream",
     "text": [
      "SELECT user_account.name, address.email_address \n",
      "FROM user_account JOIN address ON user_account.id = address.user_id\n",
      "SELECT user_account.name, address.email_address \n",
      "FROM user_account JOIN address ON user_account.id = address.user_id\n"
     ]
    }
   ],
   "source": [
    "join_stmt1 = (\n",
    "    select(user_table.c.name, address_table.c.email_address)\n",
    "    .join_from(user_table, address_table)\n",
    ")\n",
    "\n",
    "join_stmt2 = (\n",
    "    select(user_table.c.name, address_table.c.email_address)\n",
    "    .join(address_table)\n",
    ")\n",
    "\n",
    "print(join_stmt1, join_stmt2, sep='\\n')\n",
    "# ON condition is inferred"
   ]
  },
  {
   "cell_type": "code",
   "execution_count": 37,
   "id": "55427e3c-4c72-45bb-9d51-e66f6b1a5c33",
   "metadata": {},
   "outputs": [
    {
     "name": "stdout",
     "output_type": "stream",
     "text": [
      "2024-03-13 21:31:43,803 INFO sqlalchemy.engine.Engine BEGIN (implicit)\n",
      "2024-03-13 21:31:43,804 INFO sqlalchemy.engine.Engine SELECT count(?) AS count_1 \n",
      "FROM user_account JOIN address ON user_account.id = address.user_id\n",
      "2024-03-13 21:31:43,804 INFO sqlalchemy.engine.Engine [generated in 0.00164s] ('*',)\n",
      "2024-03-13 21:31:43,805 INFO sqlalchemy.engine.Engine ROLLBACK\n",
      "(6,)\n"
     ]
    }
   ],
   "source": [
    "from sqlalchemy import func\n",
    "\n",
    "count_overlap = (select(func.count('*'))\n",
    "                 .select_from(user_table).join(address_table))\n",
    "\n",
    "with engine.connect() as conn:\n",
    "    count = conn.execute(count_overlap)\n",
    "print(*count)"
   ]
  },
  {
   "cell_type": "code",
   "execution_count": 38,
   "id": "60982c05-612a-4144-a86c-7888d74d8de6",
   "metadata": {},
   "outputs": [
    {
     "name": "stdout",
     "output_type": "stream",
     "text": [
      "SELECT user_account.id, user_account.name, user_account.fullname \n",
      "FROM user_account LEFT OUTER JOIN address ON user_account.id = address.user_id\n",
      "SELECT user_account.id, user_account.name, user_account.fullname \n",
      "FROM user_account LEFT OUTER JOIN address ON user_account.id = address.user_id\n",
      "SELECT user_account.id, user_account.name, user_account.fullname \n",
      "FROM user_account FULL OUTER JOIN address ON user_account.id = address.user_id\n"
     ]
    }
   ],
   "source": [
    "# SQL - LEFT OUTER JOIN, FULL OUTER JOIN\n",
    "print(select(user_table).join(address_table, isouter=True))\n",
    "print(select(user_table).outerjoin(address_table))\n",
    "print(select(user_table).join(address_table, full=True))"
   ]
  },
  {
   "cell_type": "code",
   "execution_count": 39,
   "id": "773d9b24-a7a5-4344-be37-b862bd79d332",
   "metadata": {},
   "outputs": [
    {
     "name": "stdout",
     "output_type": "stream",
     "text": [
      "2024-03-13 21:31:43,824 INFO sqlalchemy.engine.Engine BEGIN (implicit)\n",
      "2024-03-13 21:31:43,826 INFO sqlalchemy.engine.Engine SELECT user_account.id, user_account.name, user_account.fullname \n",
      "FROM user_account ORDER BY user_account.name\n",
      "2024-03-13 21:31:43,827 INFO sqlalchemy.engine.Engine [generated in 0.00311s] ()\n",
      "2024-03-13 21:31:43,828 INFO sqlalchemy.engine.Engine ROLLBACK\n",
      "(3, 'etty', 'Esther Fast')\n",
      "(2, 'golda', 'Golda Fast')\n",
      "(1, 'mordy', 'Mordechai Fast')\n"
     ]
    }
   ],
   "source": [
    "with engine.connect() as conn:\n",
    "    result = conn.execute(select(user_table).order_by(user_table.c.name))\n",
    "    # equivilent to .order_by(user_table.c.name.asc())\n",
    "print(*result, sep='\\n')"
   ]
  },
  {
   "cell_type": "code",
   "execution_count": 40,
   "id": "e9fa37cd-3013-4fda-a2bd-3f1f76c49700",
   "metadata": {},
   "outputs": [
    {
     "name": "stdout",
     "output_type": "stream",
     "text": [
      "2024-03-13 21:31:43,835 INFO sqlalchemy.engine.Engine BEGIN (implicit)\n",
      "2024-03-13 21:31:43,836 INFO sqlalchemy.engine.Engine SELECT address.id, address.user_id, address.email_address \n",
      "FROM address ORDER BY address.id DESC\n",
      "2024-03-13 21:31:43,836 INFO sqlalchemy.engine.Engine [generated in 0.00189s] ()\n",
      "2024-03-13 21:31:43,837 INFO sqlalchemy.engine.Engine ROLLBACK\n",
      "(6, 3, 'etty@aol.com')\n",
      "(5, 2, 'golda@aol.com')\n",
      "(4, 1, 'mordy@aol.com')\n",
      "(3, 2, 'melechmommy@gmail.com')\n",
      "(2, 2, 'golda.fast@gmail.com')\n",
      "(1, 1, 'mordechai.fast@gmail.com')\n"
     ]
    }
   ],
   "source": [
    "with engine.connect() as conn:\n",
    "    result = conn.execute(select(address_table)\n",
    "                          .order_by(address_table.c.id.desc()))\n",
    "print(*result, sep='\\n')"
   ]
  },
  {
   "cell_type": "code",
   "execution_count": 41,
   "id": "99085c86-1ba1-4686-b977-e3f1f86fefcd",
   "metadata": {},
   "outputs": [
    {
     "name": "stdout",
     "output_type": "stream",
     "text": [
      "2024-03-13 21:31:43,846 INFO sqlalchemy.engine.Engine BEGIN (implicit)\n",
      "2024-03-13 21:31:43,848 INFO sqlalchemy.engine.Engine SELECT user_account.name, count(address.id) AS count_1 \n",
      "FROM user_account JOIN address ON user_account.id = address.user_id GROUP BY user_account.name \n",
      "HAVING count(address.id) > ?\n",
      "2024-03-13 21:31:43,848 INFO sqlalchemy.engine.Engine [generated in 0.00223s] (1,)\n",
      "2024-03-13 21:31:43,849 INFO sqlalchemy.engine.Engine ROLLBACK\n",
      "('golda', 3), ('mordy', 2)\n"
     ]
    }
   ],
   "source": [
    "with engine.connect() as conn:\n",
    "    result = conn.execute(\n",
    "        select(User.name, func.count(Address.id))\n",
    "        .join(Address)\n",
    "        .group_by(User.name)\n",
    "        .having(func.count(Address.id) > 1)\n",
    "    )\n",
    "print(*result, sep=', ')"
   ]
  },
  {
   "cell_type": "code",
   "execution_count": 42,
   "id": "fbc52ae6-41b6-4617-a042-3bf14424ae62",
   "metadata": {},
   "outputs": [
    {
     "name": "stdout",
     "output_type": "stream",
     "text": [
      "2024-03-13 21:31:43,857 INFO sqlalchemy.engine.Engine BEGIN (implicit)\n",
      "2024-03-13 21:31:43,858 INFO sqlalchemy.engine.Engine SELECT user_account.name, count(address.id) AS num_addresses \n",
      "FROM user_account JOIN address ON user_account.id = address.user_id GROUP BY user_account.name ORDER BY num_addresses DESC\n",
      "2024-03-13 21:31:43,858 INFO sqlalchemy.engine.Engine [generated in 0.00193s] ()\n",
      "2024-03-13 21:31:43,859 INFO sqlalchemy.engine.Engine ROLLBACK\n",
      "('golda', 3)\n",
      "('mordy', 2)\n",
      "('etty', 1)\n"
     ]
    }
   ],
   "source": [
    "from sqlalchemy import desc\n",
    "\n",
    "with engine.connect() as conn:\n",
    "    result = conn.execute(\n",
    "        select(User.name, func.count(Address.id).label(\"num_addresses\"))\n",
    "        .join(Address)\n",
    "        .group_by(\"name\")\n",
    "        .order_by(desc(\"num_addresses\"))\n",
    "    )\n",
    "print(*result, sep='\\n')"
   ]
  },
  {
   "cell_type": "code",
   "execution_count": 43,
   "id": "377f9c71-833a-4ec4-a117-32bf11aab9ef",
   "metadata": {},
   "outputs": [
    {
     "name": "stdout",
     "output_type": "stream",
     "text": [
      "2024-03-13 21:31:43,869 INFO sqlalchemy.engine.Engine BEGIN (implicit)\n",
      "2024-03-13 21:31:43,870 INFO sqlalchemy.engine.Engine SELECT user_account_1.name, user_account_2.name AS name_1 \n",
      "FROM user_account AS user_account_1 JOIN user_account AS user_account_2 ON user_account_1.id < user_account_2.id\n",
      "2024-03-13 21:31:43,871 INFO sqlalchemy.engine.Engine [generated in 0.00179s] ()\n",
      "2024-03-13 21:31:43,872 INFO sqlalchemy.engine.Engine ROLLBACK\n",
      "('mordy', 'golda'), ('mordy', 'etty'), ('golda', 'etty')\n"
     ]
    }
   ],
   "source": [
    "user1 = user_table.alias()\n",
    "user2 = user_table.alias()\n",
    "\n",
    "with engine.connect() as conn:\n",
    "    result = conn.execute(\n",
    "        select(user1.c.name, user2.c.name)\n",
    "        .join_from(user1, user2, user1.c.id < user2.c.id)\n",
    "    )\n",
    "print(*result, sep=', ')"
   ]
  },
  {
   "cell_type": "code",
   "execution_count": 44,
   "id": "1705ebc9-5158-42a7-bfa3-7140f545f75d",
   "metadata": {},
   "outputs": [
    {
     "name": "stdout",
     "output_type": "stream",
     "text": [
      "2024-03-13 21:31:43,880 INFO sqlalchemy.engine.Engine BEGIN (implicit)\n",
      "2024-03-13 21:31:43,884 INFO sqlalchemy.engine.Engine SELECT user_account.id, user_account.name, user_account.fullname \n",
      "FROM user_account JOIN address AS address_1 ON user_account.id = address_1.user_id JOIN address AS address_2 ON user_account.id = address_2.user_id \n",
      "WHERE address_1.email_address = ? AND address_2.email_address = ?\n",
      "2024-03-13 21:31:43,885 INFO sqlalchemy.engine.Engine [generated in 0.00125s] ('golda.fast@gmail.com', 'melechmommy@gmail.com')\n",
      "(User(id=2, name='golda', fullname='Golda Fast'),)\n",
      "2024-03-13 21:31:43,887 INFO sqlalchemy.engine.Engine ROLLBACK\n"
     ]
    }
   ],
   "source": [
    "from sqlalchemy.orm import aliased\n",
    "\n",
    "address1 = aliased(Address)\n",
    "address2 = aliased(Address)\n",
    "\n",
    "with Session(engine) as session:\n",
    "    result = session.execute(\n",
    "        select(User)\n",
    "        .join(address1)\n",
    "        .where(address1.email_address == \"golda.fast@gmail.com\")\n",
    "        .join(address2)\n",
    "        .where(address2.email_address == \"melechmommy@gmail.com\")\n",
    "    )\n",
    "    print(*result, sep=', ')"
   ]
  },
  {
   "cell_type": "code",
   "execution_count": 45,
   "id": "6d574275-cfaf-490e-8de6-fb8e3c8ed271",
   "metadata": {},
   "outputs": [
    {
     "name": "stdout",
     "output_type": "stream",
     "text": [
      "2024-03-13 21:31:43,894 INFO sqlalchemy.engine.Engine BEGIN (implicit)\n",
      "2024-03-13 21:31:43,896 INFO sqlalchemy.engine.Engine SELECT user_account.name, anon_1.count \n",
      "FROM (SELECT count(address.id) AS count, address.user_id AS user_id \n",
      "FROM address GROUP BY address.user_id) AS anon_1 JOIN user_account ON user_account.id = anon_1.user_id\n",
      "2024-03-13 21:31:43,897 INFO sqlalchemy.engine.Engine [generated in 0.00276s] ()\n",
      "2024-03-13 21:31:43,898 INFO sqlalchemy.engine.Engine ROLLBACK\n",
      "('mordy', 2), ('golda', 3), ('etty', 1)\n"
     ]
    }
   ],
   "source": [
    "subq = (\n",
    "    select(func.count(address_table.c.id).label(\"count\"),\n",
    "           address_table.c.user_id)\n",
    "    .group_by(address_table.c.user_id)\n",
    "    .subquery()\n",
    ")\n",
    "\n",
    "with engine.connect() as conn:\n",
    "    result = conn.execute(select(user_table.c.name, subq.c.count)\n",
    "                          .join(user_table))\n",
    "print(*result, sep=', ')"
   ]
  },
  {
   "cell_type": "code",
   "execution_count": 46,
   "id": "af0d5c5d-c0bf-47e4-9518-3258f2f71759",
   "metadata": {},
   "outputs": [
    {
     "name": "stdout",
     "output_type": "stream",
     "text": [
      "2024-03-13 21:31:43,912 INFO sqlalchemy.engine.Engine BEGIN (implicit)\n",
      "2024-03-13 21:31:43,913 INFO sqlalchemy.engine.Engine WITH raw_answer AS \n",
      "(SELECT count(address.id) AS count, address.user_id AS user_id \n",
      "FROM address GROUP BY address.user_id)\n",
      " SELECT user_account.name, raw_answer.count \n",
      "FROM raw_answer JOIN user_account ON user_account.id = raw_answer.user_id\n",
      "2024-03-13 21:31:43,914 INFO sqlalchemy.engine.Engine [generated in 0.00201s] ()\n",
      "2024-03-13 21:31:43,915 INFO sqlalchemy.engine.Engine ROLLBACK\n",
      "('mordy', 2), ('golda', 3), ('etty', 1)\n"
     ]
    }
   ],
   "source": [
    "cte = (\n",
    "    select(func.count(address_table.c.id).label(\"count\"),\n",
    "           address_table.c.user_id)\n",
    "    .group_by(address_table.c.user_id)\n",
    "    .cte(\"raw_answer\")\n",
    ")\n",
    "\n",
    "with engine.connect() as conn:\n",
    "    result = conn.execute(select(user_table.c.name, cte.c.count)\n",
    "                          .join(user_table))\n",
    "print(*result, sep=', ')"
   ]
  },
  {
   "cell_type": "code",
   "execution_count": 47,
   "id": "9d5f9202-11ad-4dd4-8e21-afe98914bc27",
   "metadata": {},
   "outputs": [
    {
     "name": "stdout",
     "output_type": "stream",
     "text": [
      "2024-03-13 21:31:43,923 INFO sqlalchemy.engine.Engine BEGIN (implicit)\n",
      "2024-03-13 21:31:43,926 INFO sqlalchemy.engine.Engine SELECT user_account.name, interesting_mail.email_address \n",
      "FROM user_account JOIN (SELECT address.id AS id, address.email_address AS email_address, address.user_id AS user_id \n",
      "FROM address \n",
      "WHERE address.email_address NOT LIKE ?) AS interesting_mail ON user_account.id = interesting_mail.user_id ORDER BY user_account.id\n",
      "2024-03-13 21:31:43,926 INFO sqlalchemy.engine.Engine [generated in 0.00084s] ('%fast@gmail.com',)\n",
      "mordy mordy@aol.com\n",
      "golda melechmommy@gmail.com\n",
      "golda golda@aol.com\n",
      "etty etty@aol.com\n",
      "2024-03-13 21:31:43,927 INFO sqlalchemy.engine.Engine ROLLBACK\n"
     ]
    }
   ],
   "source": [
    "subq = (select(Address).where(~Address.email_address.like(\"%fast@gmail.com\"))\n",
    "        .subquery(\"interesting_mail\")) # or cte()\n",
    "address_sq = aliased(Address, subq)\n",
    "stmt = (\n",
    "    select(User.name, address_sq.email_address)\n",
    "    .join_from(User, address_sq)\n",
    "    .order_by(User.id)\n",
    ")\n",
    "\n",
    "with Session(engine) as session:\n",
    "    for user, address in session.execute(stmt):\n",
    "        print(user, address)"
   ]
  },
  {
   "cell_type": "code",
   "execution_count": 48,
   "id": "0f8078d6-9838-4f77-83c3-c5a8ba84b82c",
   "metadata": {},
   "outputs": [
    {
     "name": "stdout",
     "output_type": "stream",
     "text": [
      "SELECT count(address.id) AS count_1 \n",
      "FROM address, user_account \n",
      "WHERE user_account.id = address.user_id\n",
      "*** (SELECT count(address.id) AS count_1 \n",
      "FROM address, user_account \n",
      "WHERE user_account.id = address.user_id)\n",
      "*** False\n",
      "*** (SELECT count(address.id) AS count_1 \n",
      "FROM address, user_account \n",
      "WHERE user_account.id = address.user_id) = :param_1\n"
     ]
    }
   ],
   "source": [
    "subq = (\n",
    "    select(func.count(address_table.c.id))\n",
    "    .where(user_table.c.id == address_table.c.user_id)\n",
    "    .subquery()\n",
    ")\n",
    "scalar = (\n",
    "    select(func.count(address_table.c.id))\n",
    "    .where(user_table.c.id == address_table.c.user_id)\n",
    "    .scalar_subquery()\n",
    ")\n",
    "print(subq, scalar, subq == 3, scalar == 3, sep='\\n*** ')"
   ]
  },
  {
   "cell_type": "code",
   "execution_count": 49,
   "id": "2fe30efa-800f-4ebc-b6b6-8c76c7823881",
   "metadata": {},
   "outputs": [
    {
     "name": "stdout",
     "output_type": "stream",
     "text": [
      "SELECT user_account.name, (SELECT count(address.id) AS count_1 \n",
      "FROM address \n",
      "WHERE user_account.id = address.user_id) AS anon_1 \n",
      "FROM user_account\n"
     ]
    }
   ],
   "source": [
    "# correlation\n",
    "print(select(user_table.c.name, scalar))"
   ]
  },
  {
   "cell_type": "code",
   "execution_count": 50,
   "id": "e5d3ff33-32a0-48fa-80b5-9ca87dfbe838",
   "metadata": {},
   "outputs": [
    {
     "name": "stdout",
     "output_type": "stream",
     "text": [
      "InvalidRequestError: Select statement '<sqlalchemy.sql.selectable.Select object at 0x7f7486b12180>' returned no FROM clauses due to auto-correlation; specify correlate(<tables>) to control correlation manually.\n"
     ]
    }
   ],
   "source": [
    "# Problematic correlation\n",
    "stmt = (\n",
    "    select(user_table.c.name, address_table.c.email_address, scalar)\n",
    "    .join_from(user_table, address_table)\n",
    ")\n",
    "try:\n",
    "    print(stmt)\n",
    "except sqlalchemy.exc.SQLAlchemyError as err:\n",
    "    print(f\"{err.__class__.__name__}: {err}\")"
   ]
  },
  {
   "cell_type": "code",
   "execution_count": 51,
   "id": "71cafa40",
   "metadata": {},
   "outputs": [
    {
     "name": "stdout",
     "output_type": "stream",
     "text": [
      "(SELECT count(address.id) AS count_1 \n",
      "FROM address, user_account \n",
      "WHERE user_account.id = address.user_id)\n"
     ]
    }
   ],
   "source": [
    "correlated = scalar.correlate(user_table)\n",
    "print(correlated)"
   ]
  },
  {
   "cell_type": "code",
   "execution_count": 52,
   "id": "9113c800",
   "metadata": {},
   "outputs": [
    {
     "name": "stdout",
     "output_type": "stream",
     "text": [
      "2024-03-13 21:31:43,974 INFO sqlalchemy.engine.Engine BEGIN (implicit)\n",
      "2024-03-13 21:31:43,977 INFO sqlalchemy.engine.Engine SELECT user_account.name, address.email_address, (SELECT count(address.id) AS count_1 \n",
      "FROM address \n",
      "WHERE user_account.id = address.user_id) AS address_count \n",
      "FROM user_account JOIN address ON user_account.id = address.user_id ORDER BY user_account.id, address.id\n",
      "2024-03-13 21:31:43,977 INFO sqlalchemy.engine.Engine [generated in 0.00318s] ()\n",
      "2024-03-13 21:31:43,978 INFO sqlalchemy.engine.Engine ROLLBACK\n",
      "('mordy', 'mordechai.fast@gmail.com', 2)\n",
      "('mordy', 'mordy@aol.com', 2)\n",
      "('golda', 'golda.fast@gmail.com', 3)\n",
      "('golda', 'melechmommy@gmail.com', 3)\n",
      "('golda', 'golda@aol.com', 3)\n",
      "('etty', 'etty@aol.com', 1)\n"
     ]
    }
   ],
   "source": [
    "stmt = (\n",
    "    select(\n",
    "        user_table.c.name,\n",
    "        address_table.c.email_address,\n",
    "        correlated.label(\"address_count\"),\n",
    "    )\n",
    "    .join_from(user_table, address_table)\n",
    "    .order_by(user_table.c.id, address_table.c.id)\n",
    ")\n",
    "\n",
    "with engine.connect() as conn:\n",
    "    result = conn.execute(stmt)\n",
    "print(*result, sep='\\n')"
   ]
  },
  {
   "cell_type": "code",
   "execution_count": 53,
   "id": "368cb434-eb52-45fd-adfa-a0b7dd6cde49",
   "metadata": {},
   "outputs": [
    {
     "name": "stdout",
     "output_type": "stream",
     "text": [
      "2024-03-13 21:31:43,993 INFO sqlalchemy.engine.Engine BEGIN (implicit)\n",
      "2024-03-13 21:31:43,994 INFO sqlalchemy.engine.Engine SELECT user_account.name, addr_list.address_count, addr_list.email_address \n",
      "FROM user_account JOIN LATERAL (SELECT count(address.id) AS address_count, address.email_address AS email_address, address.user_id AS user_id \n",
      "FROM address \n",
      "WHERE user_account.id = address.user_id) AS addr_list ON user_account.id = addr_list.user_id ORDER BY user_account.id, addr_list.email_address\n",
      "2024-03-13 21:31:43,994 INFO sqlalchemy.engine.Engine [generated in 0.00176s] ()\n",
      "2024-03-13 21:31:43,995 INFO sqlalchemy.engine.Engine ROLLBACK\n",
      "OperationalError: (sqlite3.OperationalError) near \"SELECT\": syntax error\n",
      "[SQL: SELECT user_account.name, addr_list.address_count, addr_list.email_address \n",
      "FROM user_account JOIN LATERAL (SELECT count(address.id) AS address_count, address.email_address AS email_address, address.user_id AS user_id \n",
      "FROM address \n",
      "WHERE user_account.id = address.user_id) AS addr_list ON user_account.id = addr_list.user_id ORDER BY user_account.id, addr_list.email_address]\n",
      "(Background on this error at: https://sqlalche.me/e/20/e3q8)\n"
     ]
    }
   ],
   "source": [
    "lateral = ( \n",
    "    select( \n",
    "        func.count(address_table.c.id).label(\"address_count\"), \n",
    "        address_table.c.email_address, address_table.c.user_id, \n",
    "    ) \n",
    "    .where(user_table.c.id == address_table.c.user_id) \n",
    "    .lateral(\"addr_list\") \n",
    ") \n",
    "stmt = ( \n",
    "    select(user_table.c.name, \n",
    "           lateral.c.address_count, \n",
    "           lateral.c.email_address) \n",
    "    .join_from(user_table, lateral) \n",
    "    .order_by(user_table.c.id, lateral.c.email_address) \n",
    ") # This is not supported by SQLite3 \n",
    "\n",
    "try: \n",
    "    with engine.connect() as conn: \n",
    "        conn.execute(stmt) \n",
    "except sqlalchemy.exc.SQLAlchemyError as err: \n",
    "    print(f\"{err.__class__.__name__}: {err}\") "
   ]
  },
  {
   "cell_type": "code",
   "execution_count": 54,
   "id": "e302b655-7086-46a0-825b-096fe9c6c8a9",
   "metadata": {},
   "outputs": [
    {
     "name": "stdout",
     "output_type": "stream",
     "text": [
      "2024-03-13 21:31:44,003 INFO sqlalchemy.engine.Engine BEGIN (implicit)\n",
      "2024-03-13 21:31:44,004 INFO sqlalchemy.engine.Engine SELECT user_account.id, user_account.name, user_account.fullname \n",
      "FROM user_account \n",
      "WHERE user_account.name = ? UNION ALL SELECT user_account.id, user_account.name, user_account.fullname \n",
      "FROM user_account \n",
      "WHERE user_account.fullname = ?\n",
      "2024-03-13 21:31:44,005 INFO sqlalchemy.engine.Engine [generated in 0.00180s] ('mordy', 'Golda Fast')\n",
      "2024-03-13 21:31:44,005 INFO sqlalchemy.engine.Engine ROLLBACK\n",
      "(1, 'mordy', 'Mordechai Fast'), (2, 'golda', 'Golda Fast')\n"
     ]
    }
   ],
   "source": [
    "from sqlalchemy import (union, union_all, \n",
    "                        intersect, intersect_all, \n",
    "                        except_, except_all) \n",
    "\n",
    "user1 = select(user_table).where(user_table.c.name == 'mordy') \n",
    "user2 = select(user_table).where(user_table.c.fullname == \"Golda Fast\") \n",
    "\n",
    "with engine.connect() as conn: \n",
    "    result = conn.execute(union_all(user1, user2)) \n",
    "print(*result, sep=', ') "
   ]
  },
  {
   "cell_type": "code",
   "execution_count": 55,
   "id": "a9252123-fa1b-48fc-9daa-25778dd6bb28",
   "metadata": {},
   "outputs": [
    {
     "name": "stdout",
     "output_type": "stream",
     "text": [
      "2024-03-13 21:31:44,013 INFO sqlalchemy.engine.Engine BEGIN (implicit)\n",
      "2024-03-13 21:31:44,014 INFO sqlalchemy.engine.Engine SELECT anon_1.id, address.email_address \n",
      "FROM (SELECT user_account.id AS id, user_account.name AS name, user_account.fullname AS fullname \n",
      "FROM user_account \n",
      "WHERE user_account.name = ? UNION ALL SELECT user_account.id AS id, user_account.name AS name, user_account.fullname AS fullname \n",
      "FROM user_account \n",
      "WHERE user_account.fullname = ?) AS anon_1 JOIN address ON anon_1.id = address.user_id\n",
      "2024-03-13 21:31:44,015 INFO sqlalchemy.engine.Engine [generated in 0.00276s] ('mordy', 'Golda Fast')\n",
      "2024-03-13 21:31:44,016 INFO sqlalchemy.engine.Engine ROLLBACK\n",
      "(1, 'mordechai.fast@gmail.com')\n",
      "(1, 'mordy@aol.com')\n",
      "(2, 'golda.fast@gmail.com')\n",
      "(2, 'melechmommy@gmail.com')\n",
      "(2, 'golda@aol.com')\n"
     ]
    }
   ],
   "source": [
    "subq = union_all(user1, user2).subquery() \n",
    "with engine.connect() as conn: \n",
    "    result = conn.execute(select(subq.c.id, address_table.c.email_address) \n",
    "                          .join(address_table)) \n",
    "print(*result, sep='\\n') "
   ]
  },
  {
   "cell_type": "code",
   "execution_count": 56,
   "id": "0f4fdf7f-e930-4115-b5ef-9ec1df16a479",
   "metadata": {},
   "outputs": [
    {
     "name": "stdout",
     "output_type": "stream",
     "text": [
      "2024-03-13 21:31:44,024 INFO sqlalchemy.engine.Engine BEGIN (implicit)\n",
      "2024-03-13 21:31:44,027 INFO sqlalchemy.engine.Engine SELECT user_account.id, user_account.name, user_account.fullname \n",
      "FROM user_account \n",
      "WHERE user_account.name = ? UNION SELECT user_account.id, user_account.name, user_account.fullname \n",
      "FROM user_account \n",
      "WHERE user_account.fullname = ?\n",
      "2024-03-13 21:31:44,027 INFO sqlalchemy.engine.Engine [generated in 0.00071s] ('mordy', 'Golda Fast')\n",
      "User(id=1, name='mordy', fullname='Mordechai Fast')\n",
      "User(id=2, name='golda', fullname='Golda Fast')\n",
      "2024-03-13 21:31:44,029 INFO sqlalchemy.engine.Engine ROLLBACK\n"
     ]
    }
   ],
   "source": [
    "user1 = select(User).where(User.name == 'mordy') \n",
    "user2 = select(User).where(User.fullname == \"Golda Fast\") \n",
    "compound_stmt = union(user1, user2) \n",
    "orm_compound = select(User).from_statement(compound_stmt) \n",
    "\n",
    "with Session(engine) as session: \n",
    "    for obj in session.execute(orm_compound).scalars(): \n",
    "        print(obj) "
   ]
  },
  {
   "cell_type": "code",
   "execution_count": 57,
   "id": "521517ac-8f19-469d-b31f-303bd1cda787",
   "metadata": {},
   "outputs": [
    {
     "name": "stdout",
     "output_type": "stream",
     "text": [
      "2024-03-13 21:31:44,035 INFO sqlalchemy.engine.Engine BEGIN (implicit)\n",
      "2024-03-13 21:31:44,038 INFO sqlalchemy.engine.Engine SELECT spec_users.name, address.email_address \n",
      "FROM (SELECT user_account.id AS id, user_account.name AS name, user_account.fullname AS fullname \n",
      "FROM user_account \n",
      "WHERE user_account.name = ? UNION SELECT user_account.id AS id, user_account.name AS name, user_account.fullname AS fullname \n",
      "FROM user_account \n",
      "WHERE user_account.fullname = ?) AS spec_users JOIN address ON spec_users.id = address.user_id ORDER BY spec_users.id\n",
      "2024-03-13 21:31:44,039 INFO sqlalchemy.engine.Engine [generated in 0.00075s] ('mordy', 'Golda Fast')\n",
      "('mordy', 'mordechai.fast@gmail.com')\n",
      "('mordy', 'mordy@aol.com')\n",
      "('golda', 'golda.fast@gmail.com')\n",
      "('golda', 'melechmommy@gmail.com')\n",
      "('golda', 'golda@aol.com')\n",
      "2024-03-13 21:31:44,040 INFO sqlalchemy.engine.Engine ROLLBACK\n"
     ]
    }
   ],
   "source": [
    "user_alias = aliased(User, compound_stmt.subquery(\"spec_users\")) \n",
    "orm_stmt = ( \n",
    "    select(user_alias.name, Address.email_address) \n",
    "    .join(Address) \n",
    "    .order_by(user_alias.id) \n",
    ") \n",
    "\n",
    "with Session(engine) as session: \n",
    "    for obj in session.execute(orm_stmt): \n",
    "        print(obj) "
   ]
  },
  {
   "cell_type": "code",
   "execution_count": 58,
   "id": "a1ce6a1a-3be2-4102-8e7c-cb0e9748178a",
   "metadata": {},
   "outputs": [
    {
     "name": "stdout",
     "output_type": "stream",
     "text": [
      "2024-03-13 21:31:44,046 INFO sqlalchemy.engine.Engine BEGIN (implicit)\n",
      "2024-03-13 21:31:44,050 INFO sqlalchemy.engine.Engine SELECT user_account.name \n",
      "FROM user_account \n",
      "WHERE EXISTS (SELECT count(address.id) AS count_1 \n",
      "FROM address \n",
      "WHERE user_account.id = address.user_id GROUP BY address.user_id \n",
      "HAVING count(address.id) > ?)\n",
      "2024-03-13 21:31:44,051 INFO sqlalchemy.engine.Engine [generated in 0.00157s] (2,)\n",
      "golda\n",
      "2024-03-13 21:31:44,053 INFO sqlalchemy.engine.Engine ROLLBACK\n"
     ]
    }
   ],
   "source": [
    "subq = (\n",
    "    select(func.count(Address.id))\n",
    "    .where(User.id == Address.user_id)\n",
    "    .group_by(Address.user_id)\n",
    "    .having(func.count(Address.id) > 2)\n",
    ").exists()\n",
    "with Session(engine) as session:\n",
    "    result = session.execute(select(User.name).where(subq)).scalars()\n",
    "    print(*result)"
   ]
  },
  {
   "cell_type": "code",
   "execution_count": 59,
   "id": "0c088526-e4af-4df7-b231-11b77d5efaae",
   "metadata": {},
   "outputs": [
    {
     "name": "stdout",
     "output_type": "stream",
     "text": [
      "2024-03-13 21:31:44,058 INFO sqlalchemy.engine.Engine BEGIN (implicit)\n",
      "2024-03-13 21:31:44,060 INFO sqlalchemy.engine.Engine INSERT INTO user_account (name, fullname) VALUES (?, ?)\n",
      "2024-03-13 21:31:44,061 INFO sqlalchemy.engine.Engine [cached since 0.5211s ago] ('tzippy', 'Tziporah Fast')\n",
      "2024-03-13 21:31:44,066 INFO sqlalchemy.engine.Engine COMMIT\n"
     ]
    }
   ],
   "source": [
    "with engine.begin() as conn:\n",
    "    conn.execute(insert(user_table)\n",
    "                 .values(name='tzippy', fullname=\"Tziporah Fast\"))"
   ]
  },
  {
   "cell_type": "code",
   "execution_count": 61,
   "id": "ba3f0c2f-02d2-4ac3-976d-72853dc42510",
   "metadata": {},
   "outputs": [
    {
     "name": "stdout",
     "output_type": "stream",
     "text": [
      "2024-03-13 21:32:09,541 INFO sqlalchemy.engine.Engine BEGIN (implicit)\n",
      "2024-03-13 21:32:09,543 INFO sqlalchemy.engine.Engine SELECT user_account.name \n",
      "FROM user_account \n",
      "WHERE NOT (EXISTS (SELECT address.id \n",
      "FROM address \n",
      "WHERE user_account.id = address.user_id))\n",
      "2024-03-13 21:32:09,543 INFO sqlalchemy.engine.Engine [cached since 25.46s ago] ()\n",
      "tzippy\n",
      "2024-03-13 21:32:09,544 INFO sqlalchemy.engine.Engine ROLLBACK\n"
     ]
    }
   ],
   "source": [
    "has_email = (\n",
    "    select(Address.id).where(User.id == Address.user_id)\n",
    ").exists()\n",
    "with Session(engine) as session:\n",
    "    result = session.execute(select(User.name).where(~has_email))\n",
    "    print(*result.scalars())"
   ]
  },
  {
   "cell_type": "code",
   "execution_count": null,
   "id": "f810e843-b631-40ad-b156-6e0179fd907e",
   "metadata": {},
   "outputs": [],
   "source": []
  }
 ],
 "metadata": {
  "kernelspec": {
   "display_name": "Python 3 (ipykernel)",
   "language": "python",
   "name": "python3"
  },
  "language_info": {
   "codemirror_mode": {
    "name": "ipython",
    "version": 3
   },
   "file_extension": ".py",
   "mimetype": "text/x-python",
   "name": "python",
   "nbconvert_exporter": "python",
   "pygments_lexer": "ipython3",
   "version": "3.12.2"
  }
 },
 "nbformat": 4,
 "nbformat_minor": 5
}
